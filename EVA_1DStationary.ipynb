{
 "cells": [
  {
   "cell_type": "code",
   "execution_count": 308,
   "id": "c8c0a43f",
   "metadata": {
    "vscode": {
     "languageId": "r"
    }
   },
   "outputs": [],
   "source": [
    "# Author: Lucas Glasner\n",
    "# Date: 2024-06-09\n",
    "# Contact: lgvivanco96@gmail.com\n",
    "library(\"openxlsx\")\n",
    "library(\"tibble\")\n",
    "source(\"fit_utils.R\")\n",
    "source(\"test_utils.R\")\n",
    "\n",
    "\n",
    "# Extract non-NA values and their corresponding IDs from a vector or data frame\n",
    "# column.\n",
    "# Args: data: A numeric vector or data frame containing sample data.\n",
    "#       col: (Optional) The column name to extract from if data is a data frame.\n",
    "# Returns: A list with two elements:\n",
    "#          - ndata: The non-NA values.\n",
    "#          - ids: The corresponding row names or indices of the non-NA values.\n",
    "extract_non_na <- function(data, col = NULL) {\n",
    "  if (is.data.frame(data)) {\n",
    "    # If col is not provided and data has only one column, use that column\n",
    "    if (is.null(col)) {\n",
    "      if (ncol(data) != 1) {\n",
    "        stop(\"Column name must be provided for data with multiple columns.\")\n",
    "      }\n",
    "      col <- colnames(data)[1]\n",
    "    }\n",
    "    ndata <- data[[col]]\n",
    "    ndata <- ndata[!is.na(ndata)]\n",
    "    ids <- rownames(data)[!is.na(data)]\n",
    "  } else {\n",
    "    # If data is a vector\n",
    "    ndata <- data[!is.na(data)]\n",
    "    ids <- seq_along(data)[!is.na(data)]\n",
    "  }\n",
    "  list(ndata = ndata, ids = ids)\n",
    "}\n",
    "\n",
    "# Compute sample statistics (mean, sd, skewness, kurtosis, min, max,\n",
    "# zero probability) for a vector or data frame column.\n",
    "# Args: data: A numeric vector or data frame containing sample data.\n",
    "#       col: (Optional) The column name to extract from if data is a data frame.\n",
    "#       remove_zeros: Logical; if TRUE, zero values are removed before\n",
    "#                     computing statistics.\n",
    "# Returns: A matrix with named statistics as columns.\n",
    "get_sample_statistics <- function(data, col = NULL, remove_zeros = FALSE) {\n",
    "  extracted <- extract_non_na(data, col)\n",
    "  ndata <- extracted$ndata\n",
    "  # Calculate statistics\n",
    "  pnonzero <- 1 - sum(ndata == 0) / length(ndata)\n",
    "  if (remove_zeros) {\n",
    "    ndata <- ndata[ndata > 0]\n",
    "  }\n",
    "  sample_moms <- as.list(moms(ndata))\n",
    "  ndata_mean <- sample_moms$mean\n",
    "  ndata_sd <- sqrt(sample_moms$variance)\n",
    "  ndata_skw <- sample_moms$skewness\n",
    "  ndata_kur <- sample_moms$kurtosis\n",
    "  ndata_min <- min(ndata)\n",
    "  ndata_max <- max(ndata)\n",
    "  stats <- list(mean = ndata_mean, sd = ndata_sd,\n",
    "                skew = ndata_skw, kurt = ndata_kur,\n",
    "                min = ndata_min, max = ndata_max,\n",
    "                pnonzero = pnonzero)\n",
    "  return(as.data.frame(stats))\n",
    "}\n",
    "\n",
    "# Build an exceedance probability table for a vector or data frame column.\n",
    "# Args: data: A numeric vector or data frame containing sample data.\n",
    "#       col: (Optional) The column name to extract from if data is a data frame.\n",
    "#       remove_zeros: Logical; if TRUE, zero values are removed before building\n",
    "#                     the table.\n",
    "# Returns: A data frame with columns: rank, data, id, pexc (empirical\n",
    "#          probability), rperiod (recurrence period).\n",
    "build_eva_table <- function(data, col = NULL, remove_zeros = FALSE) {\n",
    "  extracted <- extract_non_na(data, col)\n",
    "  ndata <- extracted$ndata\n",
    "  ids <- extracted$ids\n",
    "  # Remove zero values\n",
    "  pnonzero <- 1 - sum(ndata == 0) / length(ndata)\n",
    "  if (remove_zeros) {\n",
    "    ndata <- ndata[ndata > 0]\n",
    "    ids <- ids[ndata > 0]\n",
    "  }\n",
    "  norder <- order(ndata, decreasing = TRUE) # Order the data\n",
    "  ids  <- ids[norder]\n",
    "  ndata  <- ndata[norder]\n",
    "  # Calculate ranks and exceedance probabilities\n",
    "  ndata_rank <- rank(-ndata, ties.method = \"max\")\n",
    "  ndata_pexc <- ndata_rank / (length(ndata) + 1) # Empirical probability\n",
    "  if (pnonzero < 1) {\n",
    "    ndata_pexc <- ndata_pexc * pnonzero # Adjust for zero values\n",
    "  }\n",
    "\n",
    "  eva_table <- list(rank = ndata_rank, data = ndata,\n",
    "                    id = ids, pexc = ndata_pexc, rperiod = 1 / ndata_pexc)\n",
    "  eva_table <- as.data.frame(eva_table)\n",
    "  return(eva_table)\n",
    "}\n",
    "\n",
    "# Compute model quantiles for given exceedance probabilities.\n",
    "# Args:\n",
    "#   model_pexc: Numeric vector of exceedance probabilities for the model.\n",
    "#   model_rperiods: Numeric vector of recurrence periods for the model.\n",
    "#   statistics: Data frame or list of sample statistics (must include pnonzero).\n",
    "#   distr: Character string specifying the distribution name.\n",
    "#   params: List or vector of fitted distribution parameters.\n",
    "#   fix_zeros: Logical; if TRUE, adjusts quantiles for zero-inflated data.\n",
    "# Returns:\n",
    "#   Numeric vector of model quantiles corresponding to model_rperiods.\n",
    "get_model_quant <- function(model_pexc, statistics, distr, params,\n",
    "                            fix_zeros) {\n",
    "  model_rperiods <- 1 / model_pexc\n",
    "  model_quant <- qprobmodel((1 - model_pexc), distr = distr, params = params)\n",
    "  if (fix_zeros) {\n",
    "    model_quant <- approx(x = model_rperiods / statistics$pnonzero,\n",
    "                          y = model_quant,\n",
    "                          xout = model_rperiods)$y\n",
    "  }\n",
    "  model_quant[model_quant <= 0]   <- 0 # Ensure no negative quantiles\n",
    "  model_quant[is.na(model_quant)] <- 0 # Handle NA values\n",
    "  return(model_quant)\n",
    "}\n",
    "\n",
    "# Fit a probability model to exceedance data and compute quantiles and metrics.\n",
    "# Args:\n",
    "#   data: Numeric vector or data frame containing sample data.\n",
    "#   method: Character string specifying the fitting method.\n",
    "#   distr: Character string specifying the distribution name.\n",
    "#   model_rperiods: Numeric vector of recurrence periods for the model.\n",
    "#   target_rperiods: Numeric vector of target recurrence periods for\n",
    "#   quantile estimation.\n",
    "#   fix_zeros: Logical; if TRUE, zero values are handled specially.\n",
    "# Returns:\n",
    "#   A list containing:\n",
    "#     - eva_table: Data frame of exceedance data.\n",
    "#     - statistics: Data frame of sample statistics.\n",
    "#     - distr: Distribution name.\n",
    "#     - method: Fitting method.\n",
    "#     - params: Fitted distribution parameters.\n",
    "#     - model_pred: Model predictions at observed recurrence periods.\n",
    "#     - model_quant: Data frame of model quantiles at model_rperiods.\n",
    "#     - target_quant: Data frame of model quantiles at target_rperiods.\n",
    "#     - metrics: Data frame of goodness-of-fit metrics.\n",
    "run_probmodel <- function(data, method, distr,\n",
    "                          model_rperiods, target_rperiods,\n",
    "                          fix_zeros) {\n",
    "  name <- paste(distr, method, sep = \"_\")\n",
    "  model_pexc <- 1 / model_rperiods\n",
    "  eva_table <- build_eva_table(data, remove_zeros = fix_zeros)\n",
    "  statistics <- get_sample_statistics(data, remove_zeros = fix_zeros)\n",
    "  params <- fit_probmodel(eva_table$data, distr = distr, method = method)\n",
    "  model_quant <- get_model_quant(model_pexc, statistics,\n",
    "                                 distr, params, fix_zeros)\n",
    "  model_pred <- approx(x = model_rperiods,\n",
    "                       y = model_quant,\n",
    "                       xout = eva_table$rperiod)$y\n",
    "  target_quant <- approx(x = model_rperiods,\n",
    "                         y = model_quant,\n",
    "                         xout = target_rperiods)$y\n",
    "  metrics <- gofmetrics(eva_table$data, model_pred,\n",
    "                        distr = distr, params = params)\n",
    "\n",
    "  model_quant <- data.frame(model_quant, row.names = model_rperiods)\n",
    "  target_quant <- data.frame(target_quant, row.names = target_rperiods)\n",
    "  colnames(model_quant) <- name\n",
    "  colnames(target_quant) <- name\n",
    "  colnames(metrics) <- name\n",
    "  list(\n",
    "    eva_table = eva_table,\n",
    "    statistics = statistics,\n",
    "    distr = distr,\n",
    "    method = method,\n",
    "    params = params,\n",
    "    model_pred = model_pred,\n",
    "    model_quant = model_quant,\n",
    "    target_quant = target_quant,\n",
    "    metrics = metrics\n",
    "  )\n",
    "}\n",
    "\n",
    "pad_and_bind <- function(...) {\n",
    "  lst       <- list(...)             # all vectors\n",
    "  max_len   <- max(lengths(lst))     # longest length\n",
    "  padded    <- lapply(lst, function(x) c(x, rep(NA, max_len - length(x))))\n",
    "  do.call(rbind, padded)             # or change to rbind() for top‑to‑bottom\n",
    "}"
   ]
  },
  {
   "cell_type": "code",
   "execution_count": 309,
   "id": "59fa9958",
   "metadata": {
    "vscode": {
     "languageId": "r"
    }
   },
   "outputs": [
    {
     "name": "stdout",
     "output_type": "stream",
     "text": [
      " [1] \"CALAMA\"                 \"AD. CALAMA DMC\"         \"SIERRA GORDA\"          \n",
      " [4] \"BAQUEDANO\"              \"CERRO MORENO DMC\"       \"PEINE\"                 \n",
      " [7] \"AGUAS VERDES\"           \"TAL-TAL\"                \"LAS VEGAS\"             \n",
      "[10] \"PASTOS GRANDES\"         \"CALDERA AP. DMC\"        \"COPIAPO\"               \n",
      "[13] \"JORQUERA EN LA GUARDIA\" \"LOS LOROS\"             \n"
     ]
    }
   ],
   "source": [
    "path <- \"data/Analisis_de_Frecuencia/v3/prmax_mm24h_ConRelleno.xlsx\"\n",
    "outdir <- \"data/Analisis_de_Frecuencia/v3/\"\n",
    "sheet <- \"prmax_mm24h_filled\"\n",
    "df <- read.xlsx(path, sheet = sheet, colNames = TRUE, rowNames = TRUE)\n",
    "colnames(df) <- gsub(\"\\\\.\", \" \", colnames(df))\n",
    "colnames(df) <- gsub(\"AD \", \"AD.\", colnames(df))\n",
    "colnames(df) <- gsub(\"AP \", \"AP.\", colnames(df))\n",
    "print(colnames(df))\n",
    "col             <- \"AGUAS VERDES\"\n",
    "dir.create(paste(outdir, col, sep = \"/\"), showWarnings = FALSE)\n",
    "\n",
    "\n",
    "fix_zeros       <- TRUE\n",
    "target_rperiods <- c(2, 5, 10, 20, 25, 50, 75, 100, 150, 200)\n",
    "model_rperiods  <- c(seq(1.001, 1.009, 0.001), seq(1.01, 1.09, 0.01),\n",
    "                     seq(1.1, 5, 0.1), seq(10, 1000, 5))\n",
    "methods <- c(\"mle\", \"mme\", \"lmme\")\n",
    "distrs  <- c(\"norm\", \"lognorm\", \"gamma\", \"pearson3\",\n",
    "             \"logpearson3\", \"gumbel\", \"gev\")"
   ]
  },
  {
   "cell_type": "code",
   "execution_count": 310,
   "id": "d311d797",
   "metadata": {
    "vscode": {
     "languageId": "r"
    }
   },
   "outputs": [
    {
     "name": "stderr",
     "output_type": "stream",
     "text": [
      "Warning message in ks.test.default(x, pprobmodel, distr, params):\n",
      "\"ties should not be present for the one-sample Kolmogorov-Smirnov test\"\n",
      "Warning message in ks.test.default(x, pprobmodel, distr, params):\n",
      "\"ties should not be present for the one-sample Kolmogorov-Smirnov test\"\n",
      "Warning message in ks.test.default(x, pprobmodel, distr, params):\n",
      "\"ties should not be present for the one-sample Kolmogorov-Smirnov test\"\n",
      "Warning message in ks.test.default(x, pprobmodel, distr, params):\n",
      "\"ties should not be present for the one-sample Kolmogorov-Smirnov test\"\n",
      "Warning message in ks.test.default(x, pprobmodel, distr, params):\n",
      "\"ties should not be present for the one-sample Kolmogorov-Smirnov test\"\n",
      "Warning message in fitdist(x, dist = \"gumbel\", method = method, start = fgumbel(x), :\n",
      "\"The dgumbel function should return a vector of with NaN values when input has inconsistent parameters and not raise an error\"\n",
      "Warning message in fitdist(x, dist = \"gumbel\", method = method, start = fgumbel(x), :\n",
      "\"The pgumbel function should return a vector of with NaN values when input has inconsistent parameters and not raise an error\"\n",
      "Warning message in ks.test.default(x, pprobmodel, distr, params):\n",
      "\"ties should not be present for the one-sample Kolmogorov-Smirnov test\"\n",
      "Warning message in fitdist(x, dist = \"gev\", method = method, start = fgev(x), ...):\n",
      "\"The dgev function should return a vector of with NaN values when input has inconsistent parameters and not raise an error\"\n",
      "Warning message in fitdist(x, dist = \"gev\", method = method, start = fgev(x), ...):\n",
      "\"The pgev function should return a vector of with NaN values when input has inconsistent parameters and not raise an error\"\n",
      "Warning message in ks.test.default(x, pprobmodel, distr, params):\n",
      "\"ties should not be present for the one-sample Kolmogorov-Smirnov test\"\n",
      "Warning message in ks.test.default(x, pprobmodel, distr, params):\n",
      "\"ties should not be present for the one-sample Kolmogorov-Smirnov test\"\n",
      "Warning message in ks.test.default(x, pprobmodel, distr, params):\n",
      "\"ties should not be present for the one-sample Kolmogorov-Smirnov test\"\n",
      "Warning message in ks.test.default(x, pprobmodel, distr, params):\n",
      "\"ties should not be present for the one-sample Kolmogorov-Smirnov test\"\n",
      "Warning message in ks.test.default(x, pprobmodel, distr, params):\n",
      "\"ties should not be present for the one-sample Kolmogorov-Smirnov test\"\n",
      "Warning message in ks.test.default(x, pprobmodel, distr, params):\n",
      "\"ties should not be present for the one-sample Kolmogorov-Smirnov test\"\n",
      "Warning message in ks.test.default(x, pprobmodel, distr, params):\n",
      "\"ties should not be present for the one-sample Kolmogorov-Smirnov test\"\n",
      "Warning message in ks.test.default(x, pprobmodel, distr, params):\n",
      "\"ties should not be present for the one-sample Kolmogorov-Smirnov test\"\n",
      "Warning message in ks.test.default(x, pprobmodel, distr, params):\n",
      "\"ties should not be present for the one-sample Kolmogorov-Smirnov test\"\n",
      "Warning message in ks.test.default(x, pprobmodel, distr, params):\n",
      "\"ties should not be present for the one-sample Kolmogorov-Smirnov test\"\n",
      "Warning message in ks.test.default(x, pprobmodel, distr, params):\n",
      "\"ties should not be present for the one-sample Kolmogorov-Smirnov test\"\n",
      "Warning message in ks.test.default(x, pprobmodel, distr, params):\n",
      "\"ties should not be present for the one-sample Kolmogorov-Smirnov test\"\n",
      "Warning message in ks.test.default(x, pprobmodel, distr, params):\n",
      "\"ties should not be present for the one-sample Kolmogorov-Smirnov test\"\n",
      "Warning message in ks.test.default(x, pprobmodel, distr, params):\n",
      "\"ties should not be present for the one-sample Kolmogorov-Smirnov test\"\n",
      "Warning message in ks.test.default(x, pprobmodel, distr, params):\n",
      "\"ties should not be present for the one-sample Kolmogorov-Smirnov test\"\n"
     ]
    }
   ],
   "source": [
    "results <- list()\n",
    "for (method in methods) {\n",
    "  for (distr in distrs) {\n",
    "    tryCatch({\n",
    "      result <- run_probmodel(df[col], method, distr,\n",
    "                              model_rperiods, target_rperiods,\n",
    "                              fix_zeros)\n",
    "      results[[paste(distr, method, sep = \"_\")]] <- result\n",
    "    }, error = function(e) {\n",
    "      message(sprintf(\"Error in run_probmodel with method = %s, distr = %s: %s\",\n",
    "                      method, distr, e$message))\n",
    "    })\n",
    "  }\n",
    "}\n",
    "\n",
    "eva_table <- results[[1]]$eva_table\n",
    "statistics <- results[[1]]$statistics\n",
    "metrics <- do.call(cbind, lapply(results, function(res) res$metrics))\n",
    "models  <- do.call(cbind, lapply(results, function(res) res$model_quant))\n",
    "targets <- do.call(cbind, lapply(results, function(res) res$target_quant))\n",
    "params <- do.call(pad_and_bind, lapply(results, function(res) res$params))\n",
    "params <- as.data.frame(params)\n",
    "colnames(params) <- c(\"loc\", \"scale\", \"shape\")\n",
    "\n",
    "metrics <- metrics[, order(t(-metrics[\"adpvalue\", ]))]\n",
    "models  <- models[, colnames(metrics)]\n",
    "targets <- targets[, colnames(metrics)]\n",
    "params  <- params[colnames(metrics), ]"
   ]
  },
  {
   "cell_type": "code",
   "execution_count": 311,
   "id": "31ffe17f",
   "metadata": {
    "vscode": {
     "languageId": "r"
    }
   },
   "outputs": [
    {
     "data": {
      "text/html": [
       "<strong>png:</strong> 3"
      ],
      "text/latex": [
       "\\textbf{png:} 3"
      ],
      "text/markdown": [
       "**png:** 3"
      ],
      "text/plain": [
       "png \n",
       "  3 "
      ]
     },
     "metadata": {},
     "output_type": "display_data"
    },
    {
     "data": {
      "text/html": [
       "<strong>png:</strong> 2"
      ],
      "text/latex": [
       "\\textbf{png:} 2"
      ],
      "text/markdown": [
       "**png:** 2"
      ],
      "text/plain": [
       "png \n",
       "  2 "
      ]
     },
     "metadata": {},
     "output_type": "display_data"
    },
    {
     "data": {
      "image/png": "[encoded data removed]",
      "text/plain": [
       "Plot with title \"gev_lmme\""
      ]
     },
     "metadata": {
      "image/png": {
       "height": 540,
       "width": 1200
      }
     },
     "output_type": "display_data"
    }
   ],
   "source": [
    "\n",
    "options(repr.plot.width = 20, repr.plot.height = 9)\n",
    "par(mfrow = c(3, 7), mar = c(3, 2, 2, 1), cex = 1.2)\n",
    "\n",
    "axis_ticks <- c(1, 2, 3, 4, 5, 6, 7, 8, 9,\n",
    "                10, 20, 30, 40, 50, 60, 70, 80, 90,\n",
    "                100, 200, 300, 400, 500, 600, 700, 800, 900,\n",
    "                1000)\n",
    "axis_labels <- rep(NA, length(axis_ticks))\n",
    "mask <- axis_ticks %in% c(2, 10, 100, 1000)\n",
    "axis_labels[mask] <- axis_ticks[mask]\n",
    "\n",
    "for (i in seq_along(results)) {\n",
    "  res <- results[[i]]\n",
    "  y_axis <- ((i - 1) %% 7) == 0\n",
    "  plot(res$eva_table$rperiod, res$eva_table$data, log = \"x\",\n",
    "     xlab = \"T\",\n",
    "     xlim = c(1.2, 500),\n",
    "     ylim = c(0, eva_table[1, 2] * 1.5),\n",
    "     yaxt = if (y_axis) \"s\" else \"n\",\n",
    "     xaxt = \"n\",\n",
    "     main = names(results)[i], cex.main = 1)\n",
    "  axis(1, at = axis_ticks, labels = axis_labels)\n",
    "  lines(model_rperiods, res$model_quant[, 1],\n",
    "    col = \"blue\", lwd = 2)\n",
    "  grid()\n",
    "}\n",
    "\n",
    "par(mfrow = c(1, 1))\n",
    "\n",
    "dev.copy(png,\n",
    "         filename = file.path(outdir, paste0(col, \"/ModelsPerformance.png\")),\n",
    "         width = 1500, height = 900, res = 100)\n",
    "dev.off()"
   ]
  },
  {
   "cell_type": "code",
   "execution_count": 312,
   "id": "83aabd8c",
   "metadata": {
    "vscode": {
     "languageId": "r"
    }
   },
   "outputs": [
    {
     "data": {
      "text/html": [
       "<table class=\"dataframe\">\n",
       "<caption>A data.frame: 10 × 21</caption>\n",
       "<thead>\n",
       "\t<tr><th></th><th scope=col>logpearson3_lmme</th><th scope=col>lognorm_lmme</th><th scope=col>lognorm_mle</th><th scope=col>lognorm_mme</th><th scope=col>logpearson3_mme</th><th scope=col>pearson3_lmme</th><th scope=col>gev_mle</th><th scope=col>gamma_mme</th><th scope=col>gev_lmme</th><th scope=col>gamma_mle</th><th scope=col>⋯</th><th scope=col>gumbel_mme</th><th scope=col>gumbel_lmme</th><th scope=col>gumbel_mle</th><th scope=col>norm_mle</th><th scope=col>norm_mme</th><th scope=col>norm_lmme</th><th scope=col>pearson3_mle</th><th scope=col>pearson3_mme</th><th scope=col>logpearson3_mle</th><th scope=col>gev_mme</th></tr>\n",
       "\t<tr><th></th><th scope=col>&lt;dbl&gt;</th><th scope=col>&lt;dbl&gt;</th><th scope=col>&lt;dbl&gt;</th><th scope=col>&lt;dbl&gt;</th><th scope=col>&lt;dbl&gt;</th><th scope=col>&lt;dbl&gt;</th><th scope=col>&lt;dbl&gt;</th><th scope=col>&lt;dbl&gt;</th><th scope=col>&lt;dbl&gt;</th><th scope=col>&lt;dbl&gt;</th><th scope=col>⋯</th><th scope=col>&lt;dbl&gt;</th><th scope=col>&lt;dbl&gt;</th><th scope=col>&lt;dbl&gt;</th><th scope=col>&lt;dbl&gt;</th><th scope=col>&lt;dbl&gt;</th><th scope=col>&lt;dbl&gt;</th><th scope=col>&lt;dbl&gt;</th><th scope=col>&lt;dbl&gt;</th><th scope=col>&lt;dbl&gt;</th><th scope=col>&lt;dbl&gt;</th></tr>\n",
       "</thead>\n",
       "<tbody>\n",
       "\t<tr><th scope=row>2</th><td>  1.064948</td><td>  0.9359898</td><td>  1.050012</td><td>  1.050012</td><td>  0.6749326</td><td> 0.915944</td><td>   1.238333</td><td> 0.3415899</td><td>  0.000000</td><td> 0.6262293</td><td>⋯</td><td> 0.00000</td><td> 0.00000</td><td> 0.00000</td><td> 0.00000</td><td> 0.00000</td><td> 0.00000</td><td> 1.158297</td><td>  0.00000</td><td>    1.175713</td><td> 3.943398</td></tr>\n",
       "\t<tr><th scope=row>5</th><td>  8.084919</td><td>  9.1585376</td><td>  8.902726</td><td>  8.902726</td><td>  9.3271961</td><td> 9.043454</td><td>   6.698314</td><td>11.1101227</td><td>  9.485231</td><td>11.7173681</td><td>⋯</td><td>14.91002</td><td>14.68197</td><td>12.97044</td><td>17.60331</td><td>17.60331</td><td>17.08094</td><td>10.047323</td><td> 23.31748</td><td>    5.946737</td><td> 7.529773</td></tr>\n",
       "\t<tr><th scope=row>10</th><td> 18.584754</td><td> 19.0475138</td><td> 17.663682</td><td> 17.663682</td><td> 24.6782886</td><td>20.627368</td><td>  22.022756</td><td>21.3725947</td><td> 17.411948</td><td>20.9346672</td><td>⋯</td><td>24.62338</td><td>23.55658</td><td>19.80209</td><td>25.95160</td><td>25.95160</td><td>24.59901</td><td>21.926193</td><td>191.10033</td><td>   29.731991</td><td>10.489421</td></tr>\n",
       "\t<tr><th scope=row>20</th><td> 37.507581</td><td> 33.7576534</td><td> 30.220711</td><td> 30.220711</td><td> 54.0972279</td><td>35.017464</td><td>  66.329885</td><td>32.8866286</td><td> 28.252552</td><td>30.9378215</td><td>⋯</td><td>34.01996</td><td>32.14177</td><td>26.41095</td><td>32.73739</td><td>32.73739</td><td>30.70996</td><td>36.434257</td><td>362.60756</td><td>  137.412694</td><td>14.510828</td></tr>\n",
       "\t<tr><th scope=row>25</th><td> 46.162353</td><td> 39.6061176</td><td> 35.101072</td><td> 35.101072</td><td> 67.9478778</td><td>39.882235</td><td>  94.416680</td><td>36.6137586</td><td> 32.463282</td><td>34.1275498</td><td>⋯</td><td>36.87831</td><td>34.75330</td><td>28.42130</td><td>34.58476</td><td>34.58476</td><td>32.37362</td><td>41.304674</td><td>415.76258</td><td>  229.366963</td><td>16.065848</td></tr>\n",
       "\t<tr><th scope=row>50</th><td> 84.876221</td><td> 62.3063930</td><td> 53.689106</td><td> 53.689106</td><td>131.1195911</td><td>56.020244</td><td> 278.173875</td><td>48.6875390</td><td> 48.857730</td><td>44.3723796</td><td>⋯</td><td>45.84791</td><td>42.94837</td><td>34.72984</td><td>39.94277</td><td>39.94277</td><td>37.19878</td><td>57.400963</td><td>583.65422</td><td> 1154.209545</td><td>22.095059</td></tr>\n",
       "\t<tr><th scope=row>75</th><td>118.635059</td><td> 79.0244197</td><td> 67.090374</td><td> 67.090374</td><td>187.0855081</td><td>65.778993</td><td> 521.664947</td><td>55.8176553</td><td> 61.172072</td><td>50.3691349</td><td>⋯</td><td>50.98381</td><td>47.64079</td><td>38.34206</td><td>42.72775</td><td>42.72775</td><td>39.70680</td><td>67.098932</td><td>680.19540</td><td> 3026.022234</td><td>26.601079</td></tr>\n",
       "\t<tr><th scope=row>100</th><td>149.291236</td><td> 92.6333974</td><td> 77.864108</td><td> 77.864108</td><td>238.2339038</td><td>72.802033</td><td> 814.624733</td><td>60.8935348</td><td> 71.423116</td><td>54.6203717</td><td>⋯</td><td>54.59181</td><td>50.93724</td><td>40.87966</td><td>44.58283</td><td>44.58283</td><td>41.37740</td><td>74.066753</td><td>748.04791</td><td> 6050.654273</td><td>30.340197</td></tr>\n",
       "\t<tr><th scope=row>150</th><td>204.520671</td><td>114.5673127</td><td> 95.023834</td><td> 95.023834</td><td>330.7452332</td><td>82.831848</td><td>1525.693798</td><td>68.0796018</td><td> 88.429413</td><td>60.6183807</td><td>⋯</td><td>59.64790</td><td>55.55673</td><td>44.43573</td><td>47.06048</td><td>47.06048</td><td>43.60865</td><td>84.004725</td><td>843.09441</td><td>16220.661797</td><td>36.523514</td></tr>\n",
       "\t<tr><th scope=row>200</th><td>254.298419</td><td>132.3096001</td><td>108.751907</td><td>108.751907</td><td>414.2819635</td><td>90.051235</td><td>2378.589565</td><td>73.2144758</td><td>102.644449</td><td>64.8918324</td><td>⋯</td><td>63.23104</td><td>58.83047</td><td>46.95584</td><td>48.73998</td><td>48.73998</td><td>45.12114</td><td>91.150279</td><td>910.39387</td><td>32722.884798</td><td>41.675959</td></tr>\n",
       "</tbody>\n",
       "</table>\n"
      ],
      "text/latex": [
       "A data.frame: 10 × 21\n",
       "\\begin{tabular}{r|lllllllllllllllllllll}\n",
       "  & logpearson3\\_lmme & lognorm\\_lmme & lognorm\\_mle & lognorm\\_mme & logpearson3\\_mme & pearson3\\_lmme & gev\\_mle & gamma\\_mme & gev\\_lmme & gamma\\_mle & ⋯ & gumbel\\_mme & gumbel\\_lmme & gumbel\\_mle & norm\\_mle & norm\\_mme & norm\\_lmme & pearson3\\_mle & pearson3\\_mme & logpearson3\\_mle & gev\\_mme\\\\\n",
       "  & <dbl> & <dbl> & <dbl> & <dbl> & <dbl> & <dbl> & <dbl> & <dbl> & <dbl> & <dbl> & ⋯ & <dbl> & <dbl> & <dbl> & <dbl> & <dbl> & <dbl> & <dbl> & <dbl> & <dbl> & <dbl>\\\\\n",
       "\\hline\n",
       "\t2 &   1.064948 &   0.9359898 &   1.050012 &   1.050012 &   0.6749326 &  0.915944 &    1.238333 &  0.3415899 &   0.000000 &  0.6262293 & ⋯ &  0.00000 &  0.00000 &  0.00000 &  0.00000 &  0.00000 &  0.00000 &  1.158297 &   0.00000 &     1.175713 &  3.943398\\\\\n",
       "\t5 &   8.084919 &   9.1585376 &   8.902726 &   8.902726 &   9.3271961 &  9.043454 &    6.698314 & 11.1101227 &   9.485231 & 11.7173681 & ⋯ & 14.91002 & 14.68197 & 12.97044 & 17.60331 & 17.60331 & 17.08094 & 10.047323 &  23.31748 &     5.946737 &  7.529773\\\\\n",
       "\t10 &  18.584754 &  19.0475138 &  17.663682 &  17.663682 &  24.6782886 & 20.627368 &   22.022756 & 21.3725947 &  17.411948 & 20.9346672 & ⋯ & 24.62338 & 23.55658 & 19.80209 & 25.95160 & 25.95160 & 24.59901 & 21.926193 & 191.10033 &    29.731991 & 10.489421\\\\\n",
       "\t20 &  37.507581 &  33.7576534 &  30.220711 &  30.220711 &  54.0972279 & 35.017464 &   66.329885 & 32.8866286 &  28.252552 & 30.9378215 & ⋯ & 34.01996 & 32.14177 & 26.41095 & 32.73739 & 32.73739 & 30.70996 & 36.434257 & 362.60756 &   137.412694 & 14.510828\\\\\n",
       "\t25 &  46.162353 &  39.6061176 &  35.101072 &  35.101072 &  67.9478778 & 39.882235 &   94.416680 & 36.6137586 &  32.463282 & 34.1275498 & ⋯ & 36.87831 & 34.75330 & 28.42130 & 34.58476 & 34.58476 & 32.37362 & 41.304674 & 415.76258 &   229.366963 & 16.065848\\\\\n",
       "\t50 &  84.876221 &  62.3063930 &  53.689106 &  53.689106 & 131.1195911 & 56.020244 &  278.173875 & 48.6875390 &  48.857730 & 44.3723796 & ⋯ & 45.84791 & 42.94837 & 34.72984 & 39.94277 & 39.94277 & 37.19878 & 57.400963 & 583.65422 &  1154.209545 & 22.095059\\\\\n",
       "\t75 & 118.635059 &  79.0244197 &  67.090374 &  67.090374 & 187.0855081 & 65.778993 &  521.664947 & 55.8176553 &  61.172072 & 50.3691349 & ⋯ & 50.98381 & 47.64079 & 38.34206 & 42.72775 & 42.72775 & 39.70680 & 67.098932 & 680.19540 &  3026.022234 & 26.601079\\\\\n",
       "\t100 & 149.291236 &  92.6333974 &  77.864108 &  77.864108 & 238.2339038 & 72.802033 &  814.624733 & 60.8935348 &  71.423116 & 54.6203717 & ⋯ & 54.59181 & 50.93724 & 40.87966 & 44.58283 & 44.58283 & 41.37740 & 74.066753 & 748.04791 &  6050.654273 & 30.340197\\\\\n",
       "\t150 & 204.520671 & 114.5673127 &  95.023834 &  95.023834 & 330.7452332 & 82.831848 & 1525.693798 & 68.0796018 &  88.429413 & 60.6183807 & ⋯ & 59.64790 & 55.55673 & 44.43573 & 47.06048 & 47.06048 & 43.60865 & 84.004725 & 843.09441 & 16220.661797 & 36.523514\\\\\n",
       "\t200 & 254.298419 & 132.3096001 & 108.751907 & 108.751907 & 414.2819635 & 90.051235 & 2378.589565 & 73.2144758 & 102.644449 & 64.8918324 & ⋯ & 63.23104 & 58.83047 & 46.95584 & 48.73998 & 48.73998 & 45.12114 & 91.150279 & 910.39387 & 32722.884798 & 41.675959\\\\\n",
       "\\end{tabular}\n"
      ],
      "text/markdown": [
       "\n",
       "A data.frame: 10 × 21\n",
       "\n",
       "| <!--/--> | logpearson3_lmme &lt;dbl&gt; | lognorm_lmme &lt;dbl&gt; | lognorm_mle &lt;dbl&gt; | lognorm_mme &lt;dbl&gt; | logpearson3_mme &lt;dbl&gt; | pearson3_lmme &lt;dbl&gt; | gev_mle &lt;dbl&gt; | gamma_mme &lt;dbl&gt; | gev_lmme &lt;dbl&gt; | gamma_mle &lt;dbl&gt; | ⋯ ⋯ | gumbel_mme &lt;dbl&gt; | gumbel_lmme &lt;dbl&gt; | gumbel_mle &lt;dbl&gt; | norm_mle &lt;dbl&gt; | norm_mme &lt;dbl&gt; | norm_lmme &lt;dbl&gt; | pearson3_mle &lt;dbl&gt; | pearson3_mme &lt;dbl&gt; | logpearson3_mle &lt;dbl&gt; | gev_mme &lt;dbl&gt; |\n",
       "|---|---|---|---|---|---|---|---|---|---|---|---|---|---|---|---|---|---|---|---|---|---|\n",
       "| 2 |   1.064948 |   0.9359898 |   1.050012 |   1.050012 |   0.6749326 |  0.915944 |    1.238333 |  0.3415899 |   0.000000 |  0.6262293 | ⋯ |  0.00000 |  0.00000 |  0.00000 |  0.00000 |  0.00000 |  0.00000 |  1.158297 |   0.00000 |     1.175713 |  3.943398 |\n",
       "| 5 |   8.084919 |   9.1585376 |   8.902726 |   8.902726 |   9.3271961 |  9.043454 |    6.698314 | 11.1101227 |   9.485231 | 11.7173681 | ⋯ | 14.91002 | 14.68197 | 12.97044 | 17.60331 | 17.60331 | 17.08094 | 10.047323 |  23.31748 |     5.946737 |  7.529773 |\n",
       "| 10 |  18.584754 |  19.0475138 |  17.663682 |  17.663682 |  24.6782886 | 20.627368 |   22.022756 | 21.3725947 |  17.411948 | 20.9346672 | ⋯ | 24.62338 | 23.55658 | 19.80209 | 25.95160 | 25.95160 | 24.59901 | 21.926193 | 191.10033 |    29.731991 | 10.489421 |\n",
       "| 20 |  37.507581 |  33.7576534 |  30.220711 |  30.220711 |  54.0972279 | 35.017464 |   66.329885 | 32.8866286 |  28.252552 | 30.9378215 | ⋯ | 34.01996 | 32.14177 | 26.41095 | 32.73739 | 32.73739 | 30.70996 | 36.434257 | 362.60756 |   137.412694 | 14.510828 |\n",
       "| 25 |  46.162353 |  39.6061176 |  35.101072 |  35.101072 |  67.9478778 | 39.882235 |   94.416680 | 36.6137586 |  32.463282 | 34.1275498 | ⋯ | 36.87831 | 34.75330 | 28.42130 | 34.58476 | 34.58476 | 32.37362 | 41.304674 | 415.76258 |   229.366963 | 16.065848 |\n",
       "| 50 |  84.876221 |  62.3063930 |  53.689106 |  53.689106 | 131.1195911 | 56.020244 |  278.173875 | 48.6875390 |  48.857730 | 44.3723796 | ⋯ | 45.84791 | 42.94837 | 34.72984 | 39.94277 | 39.94277 | 37.19878 | 57.400963 | 583.65422 |  1154.209545 | 22.095059 |\n",
       "| 75 | 118.635059 |  79.0244197 |  67.090374 |  67.090374 | 187.0855081 | 65.778993 |  521.664947 | 55.8176553 |  61.172072 | 50.3691349 | ⋯ | 50.98381 | 47.64079 | 38.34206 | 42.72775 | 42.72775 | 39.70680 | 67.098932 | 680.19540 |  3026.022234 | 26.601079 |\n",
       "| 100 | 149.291236 |  92.6333974 |  77.864108 |  77.864108 | 238.2339038 | 72.802033 |  814.624733 | 60.8935348 |  71.423116 | 54.6203717 | ⋯ | 54.59181 | 50.93724 | 40.87966 | 44.58283 | 44.58283 | 41.37740 | 74.066753 | 748.04791 |  6050.654273 | 30.340197 |\n",
       "| 150 | 204.520671 | 114.5673127 |  95.023834 |  95.023834 | 330.7452332 | 82.831848 | 1525.693798 | 68.0796018 |  88.429413 | 60.6183807 | ⋯ | 59.64790 | 55.55673 | 44.43573 | 47.06048 | 47.06048 | 43.60865 | 84.004725 | 843.09441 | 16220.661797 | 36.523514 |\n",
       "| 200 | 254.298419 | 132.3096001 | 108.751907 | 108.751907 | 414.2819635 | 90.051235 | 2378.589565 | 73.2144758 | 102.644449 | 64.8918324 | ⋯ | 63.23104 | 58.83047 | 46.95584 | 48.73998 | 48.73998 | 45.12114 | 91.150279 | 910.39387 | 32722.884798 | 41.675959 |\n",
       "\n"
      ],
      "text/plain": [
       "    logpearson3_lmme lognorm_lmme lognorm_mle lognorm_mme logpearson3_mme\n",
       "2     1.064948         0.9359898    1.050012    1.050012    0.6749326    \n",
       "5     8.084919         9.1585376    8.902726    8.902726    9.3271961    \n",
       "10   18.584754        19.0475138   17.663682   17.663682   24.6782886    \n",
       "20   37.507581        33.7576534   30.220711   30.220711   54.0972279    \n",
       "25   46.162353        39.6061176   35.101072   35.101072   67.9478778    \n",
       "50   84.876221        62.3063930   53.689106   53.689106  131.1195911    \n",
       "75  118.635059        79.0244197   67.090374   67.090374  187.0855081    \n",
       "100 149.291236        92.6333974   77.864108   77.864108  238.2339038    \n",
       "150 204.520671       114.5673127   95.023834   95.023834  330.7452332    \n",
       "200 254.298419       132.3096001  108.751907  108.751907  414.2819635    \n",
       "    pearson3_lmme gev_mle     gamma_mme  gev_lmme   gamma_mle  ⋯ gumbel_mme\n",
       "2    0.915944        1.238333  0.3415899   0.000000  0.6262293 ⋯  0.00000  \n",
       "5    9.043454        6.698314 11.1101227   9.485231 11.7173681 ⋯ 14.91002  \n",
       "10  20.627368       22.022756 21.3725947  17.411948 20.9346672 ⋯ 24.62338  \n",
       "20  35.017464       66.329885 32.8866286  28.252552 30.9378215 ⋯ 34.01996  \n",
       "25  39.882235       94.416680 36.6137586  32.463282 34.1275498 ⋯ 36.87831  \n",
       "50  56.020244      278.173875 48.6875390  48.857730 44.3723796 ⋯ 45.84791  \n",
       "75  65.778993      521.664947 55.8176553  61.172072 50.3691349 ⋯ 50.98381  \n",
       "100 72.802033      814.624733 60.8935348  71.423116 54.6203717 ⋯ 54.59181  \n",
       "150 82.831848     1525.693798 68.0796018  88.429413 60.6183807 ⋯ 59.64790  \n",
       "200 90.051235     2378.589565 73.2144758 102.644449 64.8918324 ⋯ 63.23104  \n",
       "    gumbel_lmme gumbel_mle norm_mle norm_mme norm_lmme pearson3_mle\n",
       "2    0.00000     0.00000    0.00000  0.00000  0.00000   1.158297   \n",
       "5   14.68197    12.97044   17.60331 17.60331 17.08094  10.047323   \n",
       "10  23.55658    19.80209   25.95160 25.95160 24.59901  21.926193   \n",
       "20  32.14177    26.41095   32.73739 32.73739 30.70996  36.434257   \n",
       "25  34.75330    28.42130   34.58476 34.58476 32.37362  41.304674   \n",
       "50  42.94837    34.72984   39.94277 39.94277 37.19878  57.400963   \n",
       "75  47.64079    38.34206   42.72775 42.72775 39.70680  67.098932   \n",
       "100 50.93724    40.87966   44.58283 44.58283 41.37740  74.066753   \n",
       "150 55.55673    44.43573   47.06048 47.06048 43.60865  84.004725   \n",
       "200 58.83047    46.95584   48.73998 48.73998 45.12114  91.150279   \n",
       "    pearson3_mme logpearson3_mle gev_mme  \n",
       "2     0.00000        1.175713     3.943398\n",
       "5    23.31748        5.946737     7.529773\n",
       "10  191.10033       29.731991    10.489421\n",
       "20  362.60756      137.412694    14.510828\n",
       "25  415.76258      229.366963    16.065848\n",
       "50  583.65422     1154.209545    22.095059\n",
       "75  680.19540     3026.022234    26.601079\n",
       "100 748.04791     6050.654273    30.340197\n",
       "150 843.09441    16220.661797    36.523514\n",
       "200 910.39387    32722.884798    41.675959"
      ]
     },
     "metadata": {},
     "output_type": "display_data"
    }
   ],
   "source": [
    "targets"
   ]
  },
  {
   "cell_type": "code",
   "execution_count": 313,
   "id": "e8f01ca8",
   "metadata": {
    "vscode": {
     "languageId": "r"
    }
   },
   "outputs": [
    {
     "data": {
      "text/html": [
       "<style>\n",
       ".list-inline {list-style: none; margin:0; padding: 0}\n",
       ".list-inline>li {display: inline-block}\n",
       ".list-inline>li:not(:last-child)::after {content: \"\\00b7\"; padding: 0 .5ex}\n",
       "</style>\n",
       "<ol class=list-inline><li>'CALAMA'</li><li>'AD. CALAMA DMC'</li><li>'SIERRA GORDA'</li><li>'BAQUEDANO'</li><li>'CERRO MORENO DMC'</li><li>'PEINE'</li><li>'AGUAS VERDES'</li><li>'TAL-TAL'</li><li>'LAS VEGAS'</li><li>'PASTOS GRANDES'</li><li>'CALDERA AP. DMC'</li><li>'COPIAPO'</li><li>'JORQUERA EN LA GUARDIA'</li><li>'LOS LOROS'</li></ol>\n"
      ],
      "text/latex": [
       "\\begin{enumerate*}\n",
       "\\item 'CALAMA'\n",
       "\\item 'AD. CALAMA DMC'\n",
       "\\item 'SIERRA GORDA'\n",
       "\\item 'BAQUEDANO'\n",
       "\\item 'CERRO MORENO DMC'\n",
       "\\item 'PEINE'\n",
       "\\item 'AGUAS VERDES'\n",
       "\\item 'TAL-TAL'\n",
       "\\item 'LAS VEGAS'\n",
       "\\item 'PASTOS GRANDES'\n",
       "\\item 'CALDERA AP. DMC'\n",
       "\\item 'COPIAPO'\n",
       "\\item 'JORQUERA EN LA GUARDIA'\n",
       "\\item 'LOS LOROS'\n",
       "\\end{enumerate*}\n"
      ],
      "text/markdown": [
       "1. 'CALAMA'\n",
       "2. 'AD. CALAMA DMC'\n",
       "3. 'SIERRA GORDA'\n",
       "4. 'BAQUEDANO'\n",
       "5. 'CERRO MORENO DMC'\n",
       "6. 'PEINE'\n",
       "7. 'AGUAS VERDES'\n",
       "8. 'TAL-TAL'\n",
       "9. 'LAS VEGAS'\n",
       "10. 'PASTOS GRANDES'\n",
       "11. 'CALDERA AP. DMC'\n",
       "12. 'COPIAPO'\n",
       "13. 'JORQUERA EN LA GUARDIA'\n",
       "14. 'LOS LOROS'\n",
       "\n",
       "\n"
      ],
      "text/plain": [
       " [1] \"CALAMA\"                 \"AD. CALAMA DMC\"         \"SIERRA GORDA\"          \n",
       " [4] \"BAQUEDANO\"              \"CERRO MORENO DMC\"       \"PEINE\"                 \n",
       " [7] \"AGUAS VERDES\"           \"TAL-TAL\"                \"LAS VEGAS\"             \n",
       "[10] \"PASTOS GRANDES\"         \"CALDERA AP. DMC\"        \"COPIAPO\"               \n",
       "[13] \"JORQUERA EN LA GUARDIA\" \"LOS LOROS\"             "
      ]
     },
     "metadata": {},
     "output_type": "display_data"
    }
   ],
   "source": [
    "colnames(df)"
   ]
  },
  {
   "cell_type": "code",
   "execution_count": 314,
   "id": "155479d1",
   "metadata": {
    "vscode": {
     "languageId": "r"
    }
   },
   "outputs": [],
   "source": [
    "selected_models <- list()\n",
    "selected_models[\"CALAMA\"] <- \"logpearson3_lmme\"\n",
    "selected_models[\"AD. CALAMA DMC\"] <- \"pearson3_lmme\"\n",
    "selected_models[\"SIERRA GORDA\"] <- \"lognorm_lmme\"\n",
    "selected_models[\"BAQUEDANO\"] <- \"lognorm_lmme\"\n",
    "selected_models[\"CERRO MORENO DMC\"] <- \"logpearson3_lmme\"\n",
    "selected_models[\"PEINE\"] <- \"logpearson3_lmme\"\n",
    "selected_models[\"AGUAS VERDES\"] <- \"pearson3_lmme\"\n",
    "selected_models[\"TAL-TAL\"] <- \"pearson3_lmme\"\n",
    "selected_models[\"LAS VEGAS\"] <- \"pearson3_lmme\"\n",
    "selected_models[\"PASTOS GRANDES\"] <- \"gev_lmme\"\n",
    "selected_models[\"CALDERA AP. DMC\"] <- \"pearson3_mle\"\n",
    "selected_models[\"COPIAPO\"] <- \"pearson3_mle\"\n",
    "selected_models[\"JORQUERA EN LA GUARDIA\"] <- \"pearson3_mle\"\n",
    "selected_models[\"LOS LOROS\"] <- \"pearson3_mle\""
   ]
  },
  {
   "cell_type": "code",
   "execution_count": 315,
   "id": "d9e8a406",
   "metadata": {
    "vscode": {
     "languageId": "r"
    }
   },
   "outputs": [
    {
     "data": {
      "text/html": [
       "<strong>png:</strong> 3"
      ],
      "text/latex": [
       "\\textbf{png:} 3"
      ],
      "text/markdown": [
       "**png:** 3"
      ],
      "text/plain": [
       "png \n",
       "  3 "
      ]
     },
     "metadata": {},
     "output_type": "display_data"
    },
    {
     "data": {
      "text/html": [
       "<strong>png:</strong> 2"
      ],
      "text/latex": [
       "\\textbf{png:} 2"
      ],
      "text/markdown": [
       "**png:** 2"
      ],
      "text/plain": [
       "png \n",
       "  2 "
      ]
     },
     "metadata": {},
     "output_type": "display_data"
    },
    {
     "data": {
      "image/png": "[encoded data removed]",
      "text/plain": [
       "plot without title"
      ]
     },
     "metadata": {
      "image/png": {
       "height": 480,
       "width": 720
      }
     },
     "output_type": "display_data"
    }
   ],
   "source": [
    "selected_model <- selected_models[[col]]\n",
    "\n",
    "options(repr.plot.width = 12, repr.plot.height = 8)\n",
    "par(cex = 1.5)\n",
    "res <- results[[selected_model]]\n",
    "plot(res$eva_table$rperiod, res$eva_table$data, log = \"x\",\n",
    "  xlim = c(1.2, 300), ylim = c(0, statistics$mean+8*statistics$sd),\n",
    "  xlab = \"T (años)\", ylab = \"Pmax (mm/24h)\")\n",
    "lines(model_rperiods, res$model_quant[, 1],\n",
    "   col = \"blue\", lwd = 2)\n",
    "axis(1, at = axis_ticks, labels = axis_labels)\n",
    "grid()\n",
    "legend(\"topleft\",\n",
    "       inset = c(0, -0.2), xpd = TRUE,\n",
    "       legend = c(col, selected_model),\n",
    "       col = c(\"black\", \"blue\"),\n",
    "       lty = c(NA, 1), pch = c(1, NA), lwd = c(NA, 2), bty = \"n\") # bty=\"n\" for no box\n",
    "dev.copy(png,\n",
    "  filename = file.path(outdir, paste0(col, \"/FinalModel.png\")),\n",
    "  width = 1400, height = 900, res = 100)\n",
    "dev.off()\n"
   ]
  },
  {
   "cell_type": "code",
   "execution_count": 316,
   "id": "4a701ada",
   "metadata": {
    "vscode": {
     "languageId": "r"
    }
   },
   "outputs": [],
   "source": [
    "# Write results into disk as an excel spreadsheet\n",
    "wb <- createWorkbook()\n",
    "\n",
    "addWorksheet(wb, sheetName = \"EVA_Table\")\n",
    "addWorksheet(wb, sheetName = \"Statistics\")\n",
    "addWorksheet(wb, sheetName = \"CalibrationParams\")\n",
    "addWorksheet(wb, sheetName = \"FitModels\")\n",
    "addWorksheet(wb, sheetName = \"FitResults\")\n",
    "addWorksheet(wb, sheetName = \"PerformanceMetrics\")\n",
    "addWorksheet(wb, sheetName = \"FinalModel\")\n",
    "addWorksheet(wb, sheetName = \"FinalResults\")\n",
    "addWorksheet(wb, sheetName = \"FinalMetrics\")\n",
    "\n",
    "writeData(wb, sheet = \"EVA_Table\", x = eva_table)\n",
    "writeData(wb, sheet = \"Statistics\", x = statistics)\n",
    "writeData(wb, sheet = \"CalibrationParams\",\n",
    "          x = tibble::rownames_to_column(params, \"distr\"))\n",
    "writeData(wb, sheet = \"FitModels\",\n",
    "          x = tibble::rownames_to_column(models, \"T\"))\n",
    "writeData(wb, sheet = \"FitResults\",\n",
    "          x = tibble::rownames_to_column(targets, \"T\"))\n",
    "writeData(wb, sheet = \"PerformanceMetrics\",\n",
    "          x = tibble::rownames_to_column(metrics, \"metric\"))\n",
    "writeData(wb, sheet = \"FinalModel\",\n",
    "          x = tibble::rownames_to_column(models[selected_model], \"T\"))\n",
    "writeData(wb, sheet = \"FinalResults\",\n",
    "          x = tibble::rownames_to_column(targets[selected_model], \"T\"))\n",
    "writeData(wb, sheet = \"FinalMetrics\",\n",
    "          x = tibble::rownames_to_column(metrics[selected_model], \"metric\"))\n",
    "\n",
    "saveWorkbook(wb, file = file.path(outdir, paste0(col, '/', col, \".xlsx\")),\n",
    "             overwrite = TRUE)"
   ]
  }
 ],
 "metadata": {
  "kernelspec": {
   "display_name": "R",
   "language": "R",
   "name": "ir"
  },
  "language_info": {
   "codemirror_mode": "r",
   "file_extension": ".r",
   "mimetype": "text/x-r-source",
   "name": "R",
   "pygments_lexer": "r",
   "version": "4.4.1"
  }
 },
 "nbformat": 4,
 "nbformat_minor": 5
}
